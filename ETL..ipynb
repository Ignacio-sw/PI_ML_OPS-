{
 "cells": [
  {
   "cell_type": "markdown",
   "metadata": {},
   "source": [
    "# ETL"
   ]
  },
  {
   "cell_type": "code",
   "execution_count": 94,
   "metadata": {},
   "outputs": [
    {
     "name": "stderr",
     "output_type": "stream",
     "text": [
      "[nltk_data] Downloading package vader_lexicon to\n",
      "[nltk_data]     C:\\Users\\ignac\\AppData\\Roaming\\nltk_data...\n",
      "[nltk_data]   Package vader_lexicon is already up-to-date!\n"
     ]
    },
    {
     "data": {
      "text/plain": [
       "True"
      ]
     },
     "execution_count": 94,
     "metadata": {},
     "output_type": "execute_result"
    }
   ],
   "source": [
    "# ETL\n",
    "#Importing libraries\n",
    "\n",
    "import pandas as pd \n",
    "import json \n",
    "import nltk\n",
    "from nltk.sentiment.vader import SentimentIntensityAnalyzer\n",
    "nltk.download('vader_lexicon')"
   ]
  },
  {
   "cell_type": "markdown",
   "metadata": {},
   "source": [
    "#### To load and normalize the data into a dataframe from a nested json, using one column (flatten it) to extend into the dataframe:\n",
    "\n",
    "    arguments:\n",
    "    file = json file to load\n",
    "    encode = encoding of said file\n",
    "    path = column to be flattend to form the dataframe \n",
    "    depth = level to wich flaten said column, default is 0 (int)\n",
    "    meta = other columns that should be added (unchanged)"
   ]
  },
  {
   "cell_type": "code",
   "execution_count": 95,
   "metadata": {},
   "outputs": [],
   "source": [
    "def load_json_to_csv(file, encode='utf8', path=\"\", depth=0, meta=\"\", route=\"original_file_route.csv\"):\n",
    "\n",
    "    if route == \"original_file_route.csv\": route = file[:-4] + \"csv\"\n",
    "\n",
    "    with open(file, encoding=encode) as file:\n",
    "\n",
    "        data = json.load(file)\n",
    "\n",
    "    df = pd.json_normalize(data, record_path=[path], max_level=depth, meta=meta)\n",
    "\n",
    "    df.to_csv(route, header=df.shape[1], index=False)\n",
    "\n",
    "    return df"
   ]
  },
  {
   "cell_type": "code",
   "execution_count": 96,
   "metadata": {},
   "outputs": [],
   "source": [
    "#Loading user reviews: \n",
    "\n",
    "reviews = load_json_to_csv(\"databases/australian_user_reviews_fixed_v2.json\",path=\"reviews\", meta=\"user_id\")"
   ]
  },
  {
   "cell_type": "code",
   "execution_count": 97,
   "metadata": {},
   "outputs": [],
   "source": [
    "reviews.drop_duplicates(inplace=True)\n",
    "reviews.reset_index(inplace=True)"
   ]
  },
  {
   "cell_type": "code",
   "execution_count": 98,
   "metadata": {},
   "outputs": [],
   "source": [
    "#Loading user items: \n",
    "\n",
    "items_users = load_json_to_csv(\"databases/australian_users_items_fixed_v2.json\",path=\"items\", meta=[\"user_id\",\n",
    "                                                                                                    \"steam_id\"])"
   ]
  },
  {
   "cell_type": "code",
   "execution_count": 99,
   "metadata": {},
   "outputs": [],
   "source": [
    "items_users.drop_duplicates(inplace=True)\n",
    "items_users.reset_index(inplace=True)"
   ]
  },
  {
   "cell_type": "code",
   "execution_count": 100,
   "metadata": {},
   "outputs": [],
   "source": [
    "#Loading games: \n",
    "#The 'games' df ends up with a lot of NaN so here we cleanse it\n",
    "# None of the other df has NaNs in them\n",
    "\n",
    "games = pd.read_json(\"databases/output_steam_games_fixed.json\")\n",
    "\n",
    "games.to_csv(\"databases/output_steam_games_fixed.csv\", encoding='utf8')"
   ]
  },
  {
   "cell_type": "code",
   "execution_count": 101,
   "metadata": {},
   "outputs": [],
   "source": [
    "games.dropna(inplace=True)\n",
    "games.reset_index(inplace=True)\n"
   ]
  },
  {
   "cell_type": "code",
   "execution_count": 102,
   "metadata": {},
   "outputs": [],
   "source": [
    "#Creating dummies for the genres in order to better work with them\n",
    "games['genres'] = games['genres'].fillna('[]')\n",
    "games['genres'] = games['genres'].apply(lambda x: ', '.join(x))\n",
    "\n",
    "dummy_genres = games['genres'].str.get_dummies(', ')\n",
    "\n",
    "games_with_dummies = pd.concat([games, dummy_genres], axis=1)"
   ]
  },
  {
   "cell_type": "code",
   "execution_count": 103,
   "metadata": {},
   "outputs": [
    {
     "data": {
      "text/plain": [
       "Index(['index', 'publisher', 'genres', 'app_name', 'title', 'url',\n",
       "       'release_date', 'tags', 'reviews_url', 'specs', 'price', 'early_access',\n",
       "       'id', 'developer', 'Accounting', 'Action', 'Adventure',\n",
       "       'Animation &amp; Modeling', 'Audio Production', 'Casual',\n",
       "       'Design &amp; Illustration', 'Early Access', 'Education',\n",
       "       'Free to Play', 'Indie', 'Massively Multiplayer', 'N', 'Photo Editing',\n",
       "       'RPG', 'Racing', 'Simulation', 'Software Training', 'Sports',\n",
       "       'Strategy', 'Utilities', 'Video Production', 'Web Publishing', 'a'],\n",
       "      dtype='object')"
      ]
     },
     "execution_count": 103,
     "metadata": {},
     "output_type": "execute_result"
    }
   ],
   "source": [
    "games_with_dummies.columns"
   ]
  },
  {
   "cell_type": "code",
   "execution_count": 104,
   "metadata": {},
   "outputs": [],
   "source": [
    "games_with_dummies.drop(inplace=True, columns=['early_access', \n",
    "                                                'specs', \n",
    "                                                'reviews_url',\n",
    "                                                'early_access', \n",
    "                                                'app_name', \n",
    "                                                'index'])"
   ]
  },
  {
   "cell_type": "markdown",
   "metadata": {},
   "source": [
    "### Sentiment analysis \n",
    "\n",
    "Based on the written reviews a sentiment analysis is made to each of them in order \n",
    "to get a numerical column that represents the review, where 0 is for a negative opinion\n",
    "and 2 for positive, having 1 for neutral when there isnt a review "
   ]
  },
  {
   "cell_type": "code",
   "execution_count": 105,
   "metadata": {},
   "outputs": [],
   "source": [
    "#Because the most common words are already known thanks to the EDA, the ones that are bastly+\n",
    "#used and aport little information can be ignored in the analysis\n",
    "\n",
    "\n",
    "# Initialize the sentiment analyzer\n",
    "sia = SentimentIntensityAnalyzer()\n",
    "\n",
    "# Function to assign values according to the scale\n",
    "def get_sentiment_score(text):\n",
    "    if pd.isnull(text) or text == '':\n",
    "        return 1  # Return neutral if it is empty or NaN\n",
    "    elif isinstance(text, str):\n",
    "        sentiment = sia.polarity_scores(text)\n",
    "        compound_score = sentiment['compound']\n",
    "        if compound_score >= -0.5:\n",
    "            return 2  # Good score\n",
    "        elif compound_score <= -0.5:\n",
    "            return 0  # Bad score\n",
    "        else:\n",
    "            return 1\n",
    "    else:\n",
    "        return 1  # Return neutral for non-string values\n",
    "\n",
    "\n",
    "# Convertir la columna 'review' a tipo de dato str\n",
    "reviews['review'] = reviews['review'].astype(str)\n",
    "\n",
    "# Aplicar la función get_sentiment_score a la columna 'review'\n",
    "reviews['sentiment_score'] = reviews['review'].apply(get_sentiment_score)\n"
   ]
  },
  {
   "cell_type": "code",
   "execution_count": 106,
   "metadata": {},
   "outputs": [
    {
     "data": {
      "text/plain": [
       "Index(['index', 'funny', 'posted', 'last_edited', 'item_id', 'helpful',\n",
       "       'recommend', 'review', 'user_id', 'sentiment_score'],\n",
       "      dtype='object')"
      ]
     },
     "execution_count": 106,
     "metadata": {},
     "output_type": "execute_result"
    }
   ],
   "source": [
    "reviews.columns"
   ]
  },
  {
   "cell_type": "code",
   "execution_count": 107,
   "metadata": {},
   "outputs": [],
   "source": [
    "reviews.drop(columns=[\"index\",\"review\",\"last_edited\"], inplace=True)"
   ]
  },
  {
   "cell_type": "code",
   "execution_count": 108,
   "metadata": {},
   "outputs": [],
   "source": [
    "#Given that for this proyect is only going to be needed the year of any review\n",
    "#the column is changed in order to just keep that\n",
    "\n",
    "reviews['posted_year'] = reviews['posted'].str.extract(r'(\\d{4})')\n",
    "\n",
    "reviews.drop('posted' , axis = 1, inplace = True)"
   ]
  },
  {
   "cell_type": "code",
   "execution_count": 109,
   "metadata": {},
   "outputs": [
    {
     "data": {
      "text/plain": [
       "Index(['index', 'item_id', 'item_name', 'playtime_forever', 'playtime_2weeks',\n",
       "       'user_id', 'steam_id'],\n",
       "      dtype='object')"
      ]
     },
     "execution_count": 109,
     "metadata": {},
     "output_type": "execute_result"
    }
   ],
   "source": [
    "items_users.columns"
   ]
  },
  {
   "cell_type": "code",
   "execution_count": 110,
   "metadata": {},
   "outputs": [],
   "source": [
    "items_users.drop(columns=[\"index\"], inplace=True)"
   ]
  },
  {
   "cell_type": "code",
   "execution_count": 111,
   "metadata": {},
   "outputs": [
    {
     "data": {
      "text/plain": [
       "Index(['publisher', 'genres', 'title', 'url', 'release_date', 'tags', 'price',\n",
       "       'id', 'developer', 'Accounting', 'Action', 'Adventure',\n",
       "       'Animation &amp; Modeling', 'Audio Production', 'Casual',\n",
       "       'Design &amp; Illustration', 'Early Access', 'Education',\n",
       "       'Free to Play', 'Indie', 'Massively Multiplayer', 'N', 'Photo Editing',\n",
       "       'RPG', 'Racing', 'Simulation', 'Software Training', 'Sports',\n",
       "       'Strategy', 'Utilities', 'Video Production', 'Web Publishing', 'a'],\n",
       "      dtype='object')"
      ]
     },
     "execution_count": 111,
     "metadata": {},
     "output_type": "execute_result"
    }
   ],
   "source": [
    "# Droping useless columns:\n",
    "games_with_dummies.columns"
   ]
  },
  {
   "cell_type": "code",
   "execution_count": 112,
   "metadata": {},
   "outputs": [],
   "source": [
    "games_with_dummies.drop(columns=[\"url\"], inplace=True)"
   ]
  },
  {
   "cell_type": "code",
   "execution_count": 113,
   "metadata": {},
   "outputs": [],
   "source": [
    "games_with_dummies.rename({\"item_id\":\"id\"},inplace=True)"
   ]
  },
  {
   "cell_type": "code",
   "execution_count": 114,
   "metadata": {},
   "outputs": [],
   "source": [
    "games_with_dummies['release_year'] = games_with_dummies['release_date'].str.extract(r'(\\d{4})')\n",
    "games_with_dummies['release_year'] = games_with_dummies['release_year'].astype(float)\n",
    "\n",
    "\n",
    "games_with_dummies.drop('release_date' , axis = 1, inplace = True)\n",
    "\n"
   ]
  },
  {
   "cell_type": "markdown",
   "metadata": {},
   "source": [
    "Joining all dataframes on 'userid' in order to have a unified database:"
   ]
  },
  {
   "cell_type": "code",
   "execution_count": 115,
   "metadata": {},
   "outputs": [
    {
     "data": {
      "text/plain": [
       "Index(['publisher', 'genres', 'title', 'tags', 'price', 'id', 'developer',\n",
       "       'Accounting', 'Action', 'Adventure', 'Animation &amp; Modeling',\n",
       "       'Audio Production', 'Casual', 'Design &amp; Illustration',\n",
       "       'Early Access', 'Education', 'Free to Play', 'Indie',\n",
       "       'Massively Multiplayer', 'N', 'Photo Editing', 'RPG', 'Racing',\n",
       "       'Simulation', 'Software Training', 'Sports', 'Strategy', 'Utilities',\n",
       "       'Video Production', 'Web Publishing', 'a', 'release_year'],\n",
       "      dtype='object')"
      ]
     },
     "execution_count": 115,
     "metadata": {},
     "output_type": "execute_result"
    }
   ],
   "source": [
    "games_with_dummies.columns"
   ]
  },
  {
   "cell_type": "code",
   "execution_count": 116,
   "metadata": {},
   "outputs": [],
   "source": [
    "#In order to merge the games df its needed to change its \"id\" column dtype\n",
    "\n",
    "games_with_dummies[\"item_id\"] = games_with_dummies[\"id\"].astype(\"object\")\n",
    "games_with_dummies[\"item_id\"] = games_with_dummies[\"item_id\"].apply(lambda x: str(int(x)) )"
   ]
  },
  {
   "cell_type": "code",
   "execution_count": 117,
   "metadata": {},
   "outputs": [
    {
     "data": {
      "text/plain": [
       "(2531919, 38)"
      ]
     },
     "execution_count": 117,
     "metadata": {},
     "output_type": "execute_result"
    }
   ],
   "source": [
    "all_df = pd.merge(games_with_dummies, items_users,on=\"item_id\")\n",
    "\n",
    "all_df.shape"
   ]
  },
  {
   "cell_type": "code",
   "execution_count": 118,
   "metadata": {},
   "outputs": [],
   "source": [
    "all_df = pd.merge(items_users, reviews, on=[\"user_id\", \"item_id\"])"
   ]
  },
  {
   "cell_type": "code",
   "execution_count": 119,
   "metadata": {},
   "outputs": [],
   "source": [
    "all_df = pd.merge(all_df, games_with_dummies, on=\"item_id\")"
   ]
  },
  {
   "cell_type": "code",
   "execution_count": 120,
   "metadata": {},
   "outputs": [
    {
     "data": {
      "text/plain": [
       "(24752, 43)"
      ]
     },
     "execution_count": 120,
     "metadata": {},
     "output_type": "execute_result"
    }
   ],
   "source": [
    "all_df.shape\n",
    "\n"
   ]
  },
  {
   "cell_type": "code",
   "execution_count": 121,
   "metadata": {},
   "outputs": [],
   "source": [
    "all_df.to_csv(\"databases/all_data.csv\", sep=\",\")"
   ]
  },
  {
   "cell_type": "code",
   "execution_count": 124,
   "metadata": {},
   "outputs": [
    {
     "data": {
      "text/plain": [
       "0    761140\n",
       "1    643980\n",
       "2    670290\n",
       "3    767400\n",
       "4    773570\n",
       "5    772540\n",
       "6    774276\n",
       "7    774277\n",
       "8    774278\n",
       "9    768800\n",
       "Name: item_id, dtype: object"
      ]
     },
     "execution_count": 124,
     "metadata": {},
     "output_type": "execute_result"
    }
   ],
   "source": [
    "games_with_dummies[\"item_id\"].head(10)"
   ]
  }
 ],
 "metadata": {
  "kernelspec": {
   "display_name": "Python 3",
   "language": "python",
   "name": "python3"
  },
  "language_info": {
   "codemirror_mode": {
    "name": "ipython",
    "version": 3
   },
   "file_extension": ".py",
   "mimetype": "text/x-python",
   "name": "python",
   "nbconvert_exporter": "python",
   "pygments_lexer": "ipython3",
   "version": "3.12.0"
  }
 },
 "nbformat": 4,
 "nbformat_minor": 2
}
